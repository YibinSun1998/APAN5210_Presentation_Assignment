{
 "cells": [
  {
   "cell_type": "code",
   "execution_count": 5,
   "id": "6e6d7ef3",
   "metadata": {},
   "outputs": [
    {
     "name": "stderr",
     "output_type": "stream",
     "text": [
      "C:\\Users\\mikes\\AppData\\Local\\Temp\\ipykernel_10328\\271406851.py:15: FutureWarning: The default value of regex will change from True to False in a future version.\n",
      "  left_df_cleaned['address'] = left_df_cleaned['address'].str.replace(r'\\bN/A\\b', '').replace('', pd.NA)\n",
      "C:\\Users\\mikes\\AppData\\Local\\Temp\\ipykernel_10328\\271406851.py:16: FutureWarning: The default value of regex will change from True to False in a future version.\n",
      "  right_df_cleaned['address'] = right_df_cleaned['address'].str.replace(r'\\bN/A\\b', '').replace('', pd.NA)\n",
      "C:\\Users\\mikes\\AppData\\Local\\Temp\\ipykernel_10328\\271406851.py:39: FutureWarning: The default value of regex will change from True to False in a future version.\n",
      "  right_df_cleaned['postal_code'] = right_df_cleaned['postal_code'].str.replace(r'\\.\\d+', '')\n"
     ]
    }
   ],
   "source": [
    "import pandas as pd\n",
    "from fuzzywuzzy import fuzz\n",
    "from itertools import chain\n",
    "import numpy as np\n",
    "\n",
    "# Read in the datasets\n",
    "left_df = pd.read_csv(\"left_dataset.csv\")\n",
    "right_df = pd.read_csv(\"right_dataset.csv\")\n",
    "\n",
    "# Make copies of the original dataframes for cleaning\n",
    "left_df_cleaned = left_df.copy()\n",
    "right_df_cleaned = right_df.copy()\n",
    "\n",
    "# Replace \"N/A\" values in the \"address\" column with NaN\n",
    "left_df_cleaned['address'] = left_df_cleaned['address'].str.replace(r'\\bN/A\\b', '').replace('', pd.NA)\n",
    "right_df_cleaned['address'] = right_df_cleaned['address'].str.replace(r'\\bN/A\\b', '').replace('', pd.NA)\n",
    "\n",
    "# Remove trailing commas from the \"address\" column\n",
    "left_df_cleaned['address'] = left_df_cleaned['address'].str.rstrip(',')\n",
    "right_df_cleaned['address'] = right_df_cleaned['address'].str.rstrip(',')\n",
    "\n",
    "# Convert strings to lowercase/uppercase\n",
    "left_df_cleaned['address'] = left_df_cleaned['address'].str.lower()\n",
    "right_df_cleaned['address'] = right_df_cleaned['address'].str.lower()\n",
    "left_df_cleaned['name'] = left_df_cleaned['name'].str.lower()\n",
    "right_df_cleaned['name'] = right_df_cleaned['name'].str.lower()\n",
    "left_df_cleaned['city'] = left_df_cleaned['city'].str.lower()\n",
    "right_df_cleaned['city'] = right_df_cleaned['city'].str.lower()\n",
    "left_df_cleaned['state'] = left_df_cleaned['state'].str.upper()\n",
    "right_df_cleaned['state'] = right_df_cleaned['state'].str.upper()\n",
    "\n",
    "## clean zip codes\n",
    "# clean zip code in left dataset\n",
    "left_df_cleaned['zip_code'] = left_df_cleaned['zip_code'].str.slice(0, 5)\n",
    "\n",
    "# clean zip code in right dataset\n",
    "right_df_cleaned['postal_code'] = right_df_cleaned['postal_code'].fillna('')\n",
    "right_df_cleaned['postal_code'] = right_df_cleaned['postal_code'].astype(str)\n",
    "right_df_cleaned['postal_code'] = right_df_cleaned['postal_code'].str.replace(r'\\.\\d+', '')\n",
    "\n",
    "#\n",
    "left_df_cleaned = left_df_cleaned.drop_duplicates(subset = ['name','address'],keep='first')\n",
    "right_df_cleaned = right_df_cleaned.drop_duplicates(subset = ['name','address'],keep='first')"
   ]
  },
  {
   "cell_type": "code",
   "execution_count": 11,
   "id": "ef4df6db",
   "metadata": {},
   "outputs": [],
   "source": [
    "# Function used to find matches in two small dataframes\n",
    "def matcher(left_df, right_df):\n",
    "    \n",
    "    matches = []\n",
    "    for _, lrow in left_df.iterrows():\n",
    "        for _, rrow in right_df.iterrows():\n",
    "            score1 = fuzz.token_set_ratio(lrow['name'], rrow['name']) / 100\n",
    "            score2 = fuzz.token_set_ratio(lrow['address'], rrow['address']) / 100\n",
    "            \n",
    "            if min(score1,score2)>= 0.8:\n",
    "                matches.append([lrow['business_id'],rrow['entity_id'],min(score1,score2)])\n",
    "    return matches"
   ]
  },
  {
   "cell_type": "code",
   "execution_count": 16,
   "id": "6fea2bec",
   "metadata": {},
   "outputs": [],
   "source": [
    "# Function used to find matches in two big dataframes by clustering them based on postal code\n",
    "def approximate_match(left_df,right_df):\n",
    "    postal_codes = set(left_df['zip_code'])&set(right_df['postal_code'])\n",
    "    result=[]\n",
    "    \n",
    "    left_group = left_df.groupby('zip_code', as_index = True)\n",
    "    right_group = right_df.groupby('postal_code', as_index = True)\n",
    "    \n",
    "    for i in postal_codes:\n",
    "        left = left_group.get_group(i)\n",
    "        right = right_group.get_group(i)\n",
    "        matches = matcher(left,right)\n",
    "        result.extend(matches)\n",
    "    return result"
   ]
  },
  {
   "cell_type": "code",
   "execution_count": 28,
   "id": "3df394b9",
   "metadata": {
    "scrolled": true
   },
   "outputs": [],
   "source": [
    "result = approximate_match(left_df_cleaned,right_df_cleaned)"
   ]
  },
  {
   "cell_type": "code",
   "execution_count": 39,
   "id": "bbddf629",
   "metadata": {},
   "outputs": [],
   "source": [
    "output = pd.DataFrame(result,columns = ['left_dataset','right_dataset','confidence_score'])"
   ]
  },
  {
   "cell_type": "code",
   "execution_count": 40,
   "id": "930dcf38",
   "metadata": {},
   "outputs": [
    {
     "data": {
      "text/html": [
       "<div>\n",
       "<style scoped>\n",
       "    .dataframe tbody tr th:only-of-type {\n",
       "        vertical-align: middle;\n",
       "    }\n",
       "\n",
       "    .dataframe tbody tr th {\n",
       "        vertical-align: top;\n",
       "    }\n",
       "\n",
       "    .dataframe thead th {\n",
       "        text-align: right;\n",
       "    }\n",
       "</style>\n",
       "<table border=\"1\" class=\"dataframe\">\n",
       "  <thead>\n",
       "    <tr style=\"text-align: right;\">\n",
       "      <th></th>\n",
       "      <th>left_dataset</th>\n",
       "      <th>right_dataset</th>\n",
       "      <th>confidence_score</th>\n",
       "    </tr>\n",
       "  </thead>\n",
       "  <tbody>\n",
       "    <tr>\n",
       "      <th>0</th>\n",
       "      <td>63128</td>\n",
       "      <td>73265</td>\n",
       "      <td>1.00</td>\n",
       "    </tr>\n",
       "    <tr>\n",
       "      <th>1</th>\n",
       "      <td>63262</td>\n",
       "      <td>54860</td>\n",
       "      <td>0.91</td>\n",
       "    </tr>\n",
       "    <tr>\n",
       "      <th>2</th>\n",
       "      <td>65886</td>\n",
       "      <td>54860</td>\n",
       "      <td>1.00</td>\n",
       "    </tr>\n",
       "    <tr>\n",
       "      <th>3</th>\n",
       "      <td>86289</td>\n",
       "      <td>38606</td>\n",
       "      <td>1.00</td>\n",
       "    </tr>\n",
       "    <tr>\n",
       "      <th>4</th>\n",
       "      <td>87053</td>\n",
       "      <td>40400</td>\n",
       "      <td>1.00</td>\n",
       "    </tr>\n",
       "    <tr>\n",
       "      <th>...</th>\n",
       "      <td>...</td>\n",
       "      <td>...</td>\n",
       "      <td>...</td>\n",
       "    </tr>\n",
       "    <tr>\n",
       "      <th>9924</th>\n",
       "      <td>96932</td>\n",
       "      <td>22813</td>\n",
       "      <td>1.00</td>\n",
       "    </tr>\n",
       "    <tr>\n",
       "      <th>9925</th>\n",
       "      <td>97369</td>\n",
       "      <td>72330</td>\n",
       "      <td>1.00</td>\n",
       "    </tr>\n",
       "    <tr>\n",
       "      <th>9926</th>\n",
       "      <td>97751</td>\n",
       "      <td>80443</td>\n",
       "      <td>1.00</td>\n",
       "    </tr>\n",
       "    <tr>\n",
       "      <th>9927</th>\n",
       "      <td>97944</td>\n",
       "      <td>25031</td>\n",
       "      <td>1.00</td>\n",
       "    </tr>\n",
       "    <tr>\n",
       "      <th>9928</th>\n",
       "      <td>98183</td>\n",
       "      <td>48009</td>\n",
       "      <td>1.00</td>\n",
       "    </tr>\n",
       "  </tbody>\n",
       "</table>\n",
       "<p>9929 rows × 3 columns</p>\n",
       "</div>"
      ],
      "text/plain": [
       "      left_dataset  right_dataset  confidence_score\n",
       "0            63128          73265              1.00\n",
       "1            63262          54860              0.91\n",
       "2            65886          54860              1.00\n",
       "3            86289          38606              1.00\n",
       "4            87053          40400              1.00\n",
       "...            ...            ...               ...\n",
       "9924         96932          22813              1.00\n",
       "9925         97369          72330              1.00\n",
       "9926         97751          80443              1.00\n",
       "9927         97944          25031              1.00\n",
       "9928         98183          48009              1.00\n",
       "\n",
       "[9929 rows x 3 columns]"
      ]
     },
     "execution_count": 40,
     "metadata": {},
     "output_type": "execute_result"
    }
   ],
   "source": [
    "output"
   ]
  },
  {
   "cell_type": "code",
   "execution_count": 46,
   "id": "20880043",
   "metadata": {},
   "outputs": [],
   "source": [
    "output.to_csv('matches.csv',index=False)"
   ]
  },
  {
   "cell_type": "code",
   "execution_count": null,
   "id": "d31fcb2a",
   "metadata": {},
   "outputs": [],
   "source": []
  }
 ],
 "metadata": {
  "kernelspec": {
   "display_name": "Python 3 (ipykernel)",
   "language": "python",
   "name": "python3"
  },
  "language_info": {
   "codemirror_mode": {
    "name": "ipython",
    "version": 3
   },
   "file_extension": ".py",
   "mimetype": "text/x-python",
   "name": "python",
   "nbconvert_exporter": "python",
   "pygments_lexer": "ipython3",
   "version": "3.10.9"
  }
 },
 "nbformat": 4,
 "nbformat_minor": 5
}
